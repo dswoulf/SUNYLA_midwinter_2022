{
 "cells": [
  {
   "cell_type": "markdown",
   "id": "d329c8bd-9479-4d75-beff-0ff39863f22c",
   "metadata": {
    "tags": []
   },
   "source": [
    "# Jupyter notebook example\n",
    "\n",
    "This is a markdown cell. To start we have to import a library to read dataframes and import the datasets from R."
   ]
  },
  {
   "cell_type": "code",
   "execution_count": null,
   "id": "26a5673d-0197-45a1-8b65-d7499fbff306",
   "metadata": {
    "tags": []
   },
   "outputs": [],
   "source": [
    "import pandas as pd # importing library to read and manipulate dataframes\n",
    "import matplotlib as plot # importing library to produce plots\n",
    "\n",
    "# import datasets\n",
    "cars = pd.read_csv(\"cars.csv\")\n",
    "pressure = pd.read_csv(\"pressure.csv\")"
   ]
  },
  {
   "cell_type": "markdown",
   "id": "b38a8356-a86b-4fc4-b24d-b5e1ec39260f",
   "metadata": {},
   "source": [
    "### Below we'll calculate the summary statistics for the cars dataset. "
   ]
  },
  {
   "cell_type": "code",
   "execution_count": null,
   "id": "10df8f31-9137-4ece-b712-9786f7c2fa5e",
   "metadata": {},
   "outputs": [],
   "source": [
    "cars[[\"speed\", \"dist\"]].describe()"
   ]
  },
  {
   "cell_type": "markdown",
   "id": "270bc21e-44ed-414d-a257-d609d06383ca",
   "metadata": {},
   "source": [
    "### And then plot the pressure datset"
   ]
  },
  {
   "cell_type": "code",
   "execution_count": null,
   "id": "17e9add2-bfca-41af-8827-092c1e25de91",
   "metadata": {},
   "outputs": [],
   "source": [
    "pressure.plot.scatter(x = 'temperature', y = 'pressure')"
   ]
  }
 ],
 "metadata": {
  "kernelspec": {
   "display_name": "Python 3 (ipykernel)",
   "language": "python",
   "name": "python3"
  },
  "language_info": {
   "codemirror_mode": {
    "name": "ipython",
    "version": 3
   },
   "file_extension": ".py",
   "mimetype": "text/x-python",
   "name": "python",
   "nbconvert_exporter": "python",
   "pygments_lexer": "ipython3",
   "version": "3.9.7"
  }
 },
 "nbformat": 4,
 "nbformat_minor": 5
}
