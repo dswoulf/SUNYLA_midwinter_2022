{
 "cells": [
  {
   "cell_type": "markdown",
   "id": "d329c8bd-9479-4d75-beff-0ff39863f22c",
   "metadata": {
    "tags": []
   },
   "source": [
    "# Jupyter notebook example\n",
    "\n",
    "This is a markdown cell. To start we have to import a library to read dataframes and import the datasets from R."
   ]
  },
  {
   "cell_type": "code",
   "execution_count": 2,
   "id": "26a5673d-0197-45a1-8b65-d7499fbff306",
   "metadata": {
    "tags": []
   },
   "outputs": [],
   "source": [
    "import pandas as pd # importing library to read and manipulate dataframes\n",
    "import matplotlib as plot # importing library to produce plots\n",
    "\n",
    "# import datasets\n",
    "cars = pd.read_csv(\"cars.csv\")\n",
    "pressure = pd.read_csv(\"pressure.csv\")"
   ]
  },
  {
   "cell_type": "markdown",
   "id": "b38a8356-a86b-4fc4-b24d-b5e1ec39260f",
   "metadata": {},
   "source": [
    "### Below we'll calculate the summary statistics for the cars dataset. "
   ]
  },
  {
   "cell_type": "code",
   "execution_count": 3,
   "id": "10df8f31-9137-4ece-b712-9786f7c2fa5e",
   "metadata": {},
   "outputs": [
    {
     "data": {
      "text/html": [
       "<div>\n",
       "<style scoped>\n",
       "    .dataframe tbody tr th:only-of-type {\n",
       "        vertical-align: middle;\n",
       "    }\n",
       "\n",
       "    .dataframe tbody tr th {\n",
       "        vertical-align: top;\n",
       "    }\n",
       "\n",
       "    .dataframe thead th {\n",
       "        text-align: right;\n",
       "    }\n",
       "</style>\n",
       "<table border=\"1\" class=\"dataframe\">\n",
       "  <thead>\n",
       "    <tr style=\"text-align: right;\">\n",
       "      <th></th>\n",
       "      <th>speed</th>\n",
       "      <th>dist</th>\n",
       "    </tr>\n",
       "  </thead>\n",
       "  <tbody>\n",
       "    <tr>\n",
       "      <th>count</th>\n",
       "      <td>50.000000</td>\n",
       "      <td>50.000000</td>\n",
       "    </tr>\n",
       "    <tr>\n",
       "      <th>mean</th>\n",
       "      <td>15.400000</td>\n",
       "      <td>42.980000</td>\n",
       "    </tr>\n",
       "    <tr>\n",
       "      <th>std</th>\n",
       "      <td>5.287644</td>\n",
       "      <td>25.769377</td>\n",
       "    </tr>\n",
       "    <tr>\n",
       "      <th>min</th>\n",
       "      <td>4.000000</td>\n",
       "      <td>2.000000</td>\n",
       "    </tr>\n",
       "    <tr>\n",
       "      <th>25%</th>\n",
       "      <td>12.000000</td>\n",
       "      <td>26.000000</td>\n",
       "    </tr>\n",
       "    <tr>\n",
       "      <th>50%</th>\n",
       "      <td>15.000000</td>\n",
       "      <td>36.000000</td>\n",
       "    </tr>\n",
       "    <tr>\n",
       "      <th>75%</th>\n",
       "      <td>19.000000</td>\n",
       "      <td>56.000000</td>\n",
       "    </tr>\n",
       "    <tr>\n",
       "      <th>max</th>\n",
       "      <td>25.000000</td>\n",
       "      <td>120.000000</td>\n",
       "    </tr>\n",
       "  </tbody>\n",
       "</table>\n",
       "</div>"
      ],
      "text/plain": [
       "           speed        dist\n",
       "count  50.000000   50.000000\n",
       "mean   15.400000   42.980000\n",
       "std     5.287644   25.769377\n",
       "min     4.000000    2.000000\n",
       "25%    12.000000   26.000000\n",
       "50%    15.000000   36.000000\n",
       "75%    19.000000   56.000000\n",
       "max    25.000000  120.000000"
      ]
     },
     "execution_count": 3,
     "metadata": {},
     "output_type": "execute_result"
    }
   ],
   "source": [
    "cars[[\"speed\", \"dist\"]].describe()"
   ]
  },
  {
   "cell_type": "markdown",
   "id": "270bc21e-44ed-414d-a257-d609d06383ca",
   "metadata": {},
   "source": [
    "### And then plot the pressure datset"
   ]
  },
  {
   "cell_type": "code",
   "execution_count": 4,
   "id": "17e9add2-bfca-41af-8827-092c1e25de91",
   "metadata": {},
   "outputs": [
    {
     "data": {
      "text/plain": [
       "<AxesSubplot:xlabel='temperature', ylabel='pressure'>"
      ]
     },
     "execution_count": 4,
     "metadata": {},
     "output_type": "execute_result"
    },
    {
     "data": {
      "image/png": "[encoded data removed]",
      "text/plain": [
       "<Figure size 432x288 with 1 Axes>"
      ]
     },
     "metadata": {
      "needs_background": "light"
     },
     "output_type": "display_data"
    }
   ],
   "source": [
    "pressure.plot.scatter(x = 'temperature', y = 'pressure')"
   ]
  }
 ],
 "metadata": {
  "kernelspec": {
   "display_name": "Python 3 (ipykernel)",
   "language": "python",
   "name": "python3"
  },
  "language_info": {
   "codemirror_mode": {
    "name": "ipython",
    "version": 3
   },
   "file_extension": ".py",
   "mimetype": "text/x-python",
   "name": "python",
   "nbconvert_exporter": "python",
   "pygments_lexer": "ipython3",
   "version": "3.9.7"
  }
 },
 "nbformat": 4,
 "nbformat_minor": 5
}
